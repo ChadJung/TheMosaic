{
 "cells": [
  {
   "cell_type": "code",
   "execution_count": 1,
   "metadata": {},
   "outputs": [
    {
     "name": "stderr",
     "output_type": "stream",
     "text": [
      "Using TensorFlow backend.\n"
     ]
    }
   ],
   "source": [
    "from __future__ import print_function, division\n",
    "from builtins import range, input\n",
    "\n",
    "from keras.models import Sequential\n",
    "from keras.layers import Conv2D, Dense, Flatten, BatchNormalization, Dropout, Activation, MaxPooling2D\n",
    "\n",
    "import matplotlib.pyplot as plt\n",
    "import numpy as np\n",
    "\n",
    "from Preprocessing_mod import Preprocessor, Data, DataSet\n",
    "import pickle\n",
    "\n",
    "with open('PreprocessorObject.obj', 'rb') as file:\n",
    "    p = pickle.load(file)\n",
    "with open('DataObject.data', 'rb') as file:\n",
    "    data = pickle.load(file)\n",
    "    \n",
    "img_shape = p.shape\n",
    "img_size_flat = img_shape[0]*img_shape[1]*img_shape[2]\n",
    "IMG_SIZE = (img_shape[0], img_shape[0])\n",
    "num_classes = len(p.label_ids)\n",
    "num_channels = p.num_channels\n",
    "epochs = 10\n",
    "batch_size = 32"
   ]
  },
  {
   "cell_type": "code",
   "execution_count": 2,
   "metadata": {},
   "outputs": [
    {
     "name": "stdout",
     "output_type": "stream",
     "text": [
      "(32, 32, 3) 3072 4 3\n",
      "1559 194 199\n"
     ]
    }
   ],
   "source": [
    "print(img_shape, img_size_flat, num_classes, num_channels)\n",
    "print(len(data.train.inputs), len(data.test.inputs), len(data.valid.inputs))"
   ]
  },
  {
   "cell_type": "code",
   "execution_count": 3,
   "metadata": {},
   "outputs": [
    {
     "data": {
      "text/plain": [
       "1952"
      ]
     },
     "execution_count": 3,
     "metadata": {},
     "output_type": "execute_result"
    }
   ],
   "source": [
    "data_con = np.concatenate((data.train.inputs, data.test.inputs, data.valid.inputs))\n",
    "label_con = np.concatenate((data.train.labels, data.test.labels, data.valid.labels))\n",
    "len(data_con)"
   ]
  },
  {
   "cell_type": "code",
   "execution_count": 4,
   "metadata": {},
   "outputs": [],
   "source": [
    "def y2indicator(Y):\n",
    "    K = num_classes\n",
    "    N = len(Y)\n",
    "    I = np.zeros((N, K))\n",
    "    I[np.arange(N), Y] = 1\n",
    "    return I"
   ]
  },
  {
   "cell_type": "code",
   "execution_count": 5,
   "metadata": {},
   "outputs": [],
   "source": [
    "X = data_con.reshape(-1, 32, 32, 3) / 255.0\n",
    "Y = label_con.astype(np.int32)"
   ]
  },
  {
   "cell_type": "code",
   "execution_count": 6,
   "metadata": {},
   "outputs": [],
   "source": [
    "K = len(set(Y))\n",
    "Y = y2indicator(Y)"
   ]
  },
  {
   "cell_type": "code",
   "execution_count": 7,
   "metadata": {},
   "outputs": [
    {
     "data": {
      "text/plain": [
       "1952"
      ]
     },
     "execution_count": 7,
     "metadata": {},
     "output_type": "execute_result"
    }
   ],
   "source": [
    "len(X)"
   ]
  },
  {
   "cell_type": "code",
   "execution_count": 8,
   "metadata": {},
   "outputs": [
    {
     "name": "stdout",
     "output_type": "stream",
     "text": [
      "WARNING:tensorflow:From C:\\Anaconda3\\envs\\py36\\lib\\site-packages\\tensorflow\\python\\framework\\op_def_library.py:263: colocate_with (from tensorflow.python.framework.ops) is deprecated and will be removed in a future version.\n",
      "Instructions for updating:\n",
      "Colocations handled automatically by placer.\n",
      "WARNING:tensorflow:From C:\\Anaconda3\\envs\\py36\\lib\\site-packages\\keras\\backend\\tensorflow_backend.py:3445: calling dropout (from tensorflow.python.ops.nn_ops) with keep_prob is deprecated and will be removed in a future version.\n",
      "Instructions for updating:\n",
      "Please use `rate` instead of `keep_prob`. Rate should be set to `rate = 1 - keep_prob`.\n"
     ]
    }
   ],
   "source": [
    "model = Sequential()\n",
    "\n",
    "model.add(Conv2D(input_shape=(32, 32,3), filters = 32, kernel_size = (3,3)))\n",
    "model.add(BatchNormalization())\n",
    "model.add(Activation('relu'))\n",
    "model.add(MaxPooling2D())\n",
    "\n",
    "model.add(Conv2D(filters = 32, kernel_size = (3,3)))\n",
    "model.add(BatchNormalization())\n",
    "model.add(Activation('relu'))\n",
    "model.add(MaxPooling2D())\n",
    "\n",
    "model.add(Conv2D(filters = 32, kernel_size = (3,3)))\n",
    "model.add(BatchNormalization())\n",
    "model.add(Activation('relu'))\n",
    "model.add(MaxPooling2D())\n",
    "\n",
    "model.add(Flatten())\n",
    "model.add(Dense(units=300))\n",
    "model.add(Activation('relu'))\n",
    "model.add(Dropout(0.2))\n",
    "model.add(Dense(units=K))\n",
    "model.add(Activation('softmax'))"
   ]
  },
  {
   "cell_type": "code",
   "execution_count": 9,
   "metadata": {},
   "outputs": [
    {
     "name": "stdout",
     "output_type": "stream",
     "text": [
      "WARNING:tensorflow:From C:\\Anaconda3\\envs\\py36\\lib\\site-packages\\tensorflow\\python\\ops\\math_ops.py:3066: to_int32 (from tensorflow.python.ops.math_ops) is deprecated and will be removed in a future version.\n",
      "Instructions for updating:\n",
      "Use tf.cast instead.\n",
      "Train on 1307 samples, validate on 645 samples\n",
      "Epoch 1/10\n",
      "1307/1307 [==============================] - ETA: 2:08 - loss: 1.4807 - acc: 0.281 - ETA: 1:04 - loss: 1.2497 - acc: 0.437 - ETA: 42s - loss: 1.1227 - acc: 0.489 - ETA: 31s - loss: 1.0215 - acc: 0.55 - ETA: 25s - loss: 0.9338 - acc: 0.61 - ETA: 21s - loss: 0.8724 - acc: 0.66 - ETA: 17s - loss: 0.8062 - acc: 0.69 - ETA: 15s - loss: 0.7448 - acc: 0.72 - ETA: 13s - loss: 0.6830 - acc: 0.75 - ETA: 12s - loss: 0.6314 - acc: 0.77 - ETA: 10s - loss: 0.5871 - acc: 0.79 - ETA: 9s - loss: 0.5789 - acc: 0.8021 - ETA: 8s - loss: 0.5478 - acc: 0.812 - ETA: 8s - loss: 0.5188 - acc: 0.821 - ETA: 7s - loss: 0.4923 - acc: 0.831 - ETA: 6s - loss: 0.4812 - acc: 0.835 - ETA: 6s - loss: 0.4671 - acc: 0.840 - ETA: 5s - loss: 0.4458 - acc: 0.849 - ETA: 5s - loss: 0.4282 - acc: 0.855 - ETA: 4s - loss: 0.4097 - acc: 0.862 - ETA: 4s - loss: 0.3933 - acc: 0.869 - ETA: 4s - loss: 0.3776 - acc: 0.875 - ETA: 3s - loss: 0.3640 - acc: 0.879 - ETA: 3s - loss: 0.3510 - acc: 0.884 - ETA: 3s - loss: 0.3435 - acc: 0.887 - ETA: 2s - loss: 0.3311 - acc: 0.891 - ETA: 2s - loss: 0.3227 - acc: 0.893 - ETA: 2s - loss: 0.3125 - acc: 0.897 - ETA: 2s - loss: 0.3047 - acc: 0.899 - ETA: 1s - loss: 0.2965 - acc: 0.903 - ETA: 1s - loss: 0.2882 - acc: 0.906 - ETA: 1s - loss: 0.2796 - acc: 0.909 - ETA: 1s - loss: 0.2724 - acc: 0.911 - ETA: 1s - loss: 0.2648 - acc: 0.914 - ETA: 0s - loss: 0.2582 - acc: 0.917 - ETA: 0s - loss: 0.2521 - acc: 0.919 - ETA: 0s - loss: 0.2504 - acc: 0.920 - ETA: 0s - loss: 0.2444 - acc: 0.922 - ETA: 0s - loss: 0.2387 - acc: 0.924 - ETA: 0s - loss: 0.2333 - acc: 0.926 - 7s 5ms/step - loss: 0.2288 - acc: 0.9281 - val_loss: 0.0933 - val_acc: 0.9659\n",
      "Epoch 2/10\n",
      "1307/1307 [==============================] - ETA: 2s - loss: 0.0104 - acc: 1.000 - ETA: 2s - loss: 0.0107 - acc: 1.000 - ETA: 2s - loss: 0.0131 - acc: 1.000 - ETA: 2s - loss: 0.0152 - acc: 1.000 - ETA: 2s - loss: 0.0135 - acc: 1.000 - ETA: 2s - loss: 0.0173 - acc: 1.000 - ETA: 2s - loss: 0.0190 - acc: 1.000 - ETA: 2s - loss: 0.0180 - acc: 1.000 - ETA: 2s - loss: 0.0180 - acc: 1.000 - ETA: 1s - loss: 0.0179 - acc: 1.000 - ETA: 1s - loss: 0.0167 - acc: 1.000 - ETA: 1s - loss: 0.0159 - acc: 1.000 - ETA: 1s - loss: 0.0151 - acc: 1.000 - ETA: 1s - loss: 0.0148 - acc: 1.000 - ETA: 1s - loss: 0.0143 - acc: 1.000 - ETA: 1s - loss: 0.0138 - acc: 1.000 - ETA: 1s - loss: 0.0133 - acc: 1.000 - ETA: 1s - loss: 0.0132 - acc: 1.000 - ETA: 1s - loss: 0.0126 - acc: 1.000 - ETA: 1s - loss: 0.0123 - acc: 1.000 - ETA: 1s - loss: 0.0120 - acc: 1.000 - ETA: 1s - loss: 0.0116 - acc: 1.000 - ETA: 1s - loss: 0.0114 - acc: 1.000 - ETA: 1s - loss: 0.0111 - acc: 1.000 - ETA: 1s - loss: 0.0108 - acc: 1.000 - ETA: 0s - loss: 0.0104 - acc: 1.000 - ETA: 0s - loss: 0.0103 - acc: 1.000 - ETA: 0s - loss: 0.0099 - acc: 1.000 - ETA: 0s - loss: 0.0098 - acc: 1.000 - ETA: 0s - loss: 0.0095 - acc: 1.000 - ETA: 0s - loss: 0.0093 - acc: 1.000 - ETA: 0s - loss: 0.0091 - acc: 1.000 - ETA: 0s - loss: 0.0090 - acc: 1.000 - ETA: 0s - loss: 0.0088 - acc: 1.000 - ETA: 0s - loss: 0.0087 - acc: 1.000 - ETA: 0s - loss: 0.0086 - acc: 1.000 - ETA: 0s - loss: 0.0104 - acc: 0.998 - ETA: 0s - loss: 0.0103 - acc: 0.998 - ETA: 0s - loss: 0.0101 - acc: 0.998 - ETA: 0s - loss: 0.0101 - acc: 0.998 - 3s 2ms/step - loss: 0.0099 - acc: 0.9985 - val_loss: 0.0227 - val_acc: 0.9969\n",
      "Epoch 3/10\n",
      "1307/1307 [==============================] - ETA: 2s - loss: 0.0223 - acc: 1.000 - ETA: 2s - loss: 0.0127 - acc: 1.000 - ETA: 2s - loss: 0.0101 - acc: 1.000 - ETA: 2s - loss: 0.0083 - acc: 1.000 - ETA: 2s - loss: 0.0077 - acc: 1.000 - ETA: 2s - loss: 0.0067 - acc: 1.000 - ETA: 2s - loss: 0.0061 - acc: 1.000 - ETA: 2s - loss: 0.0056 - acc: 1.000 - ETA: 1s - loss: 0.0052 - acc: 1.000 - ETA: 1s - loss: 0.0058 - acc: 1.000 - ETA: 1s - loss: 0.0053 - acc: 1.000 - ETA: 1s - loss: 0.0051 - acc: 1.000 - ETA: 1s - loss: 0.0048 - acc: 1.000 - ETA: 1s - loss: 0.0046 - acc: 1.000 - ETA: 1s - loss: 0.0045 - acc: 1.000 - ETA: 1s - loss: 0.0045 - acc: 1.000 - ETA: 1s - loss: 0.0044 - acc: 1.000 - ETA: 1s - loss: 0.0043 - acc: 1.000 - ETA: 1s - loss: 0.0046 - acc: 1.000 - ETA: 1s - loss: 0.0045 - acc: 1.000 - ETA: 1s - loss: 0.0043 - acc: 1.000 - ETA: 1s - loss: 0.0043 - acc: 1.000 - ETA: 1s - loss: 0.0042 - acc: 1.000 - ETA: 0s - loss: 0.0041 - acc: 1.000 - ETA: 0s - loss: 0.0041 - acc: 1.000 - ETA: 0s - loss: 0.0040 - acc: 1.000 - ETA: 0s - loss: 0.0040 - acc: 1.000 - ETA: 0s - loss: 0.0039 - acc: 1.000 - ETA: 0s - loss: 0.0039 - acc: 1.000 - ETA: 0s - loss: 0.0044 - acc: 1.000 - ETA: 0s - loss: 0.0043 - acc: 1.000 - ETA: 0s - loss: 0.0042 - acc: 1.000 - ETA: 0s - loss: 0.0040 - acc: 1.000 - ETA: 0s - loss: 0.0041 - acc: 1.000 - ETA: 0s - loss: 0.0040 - acc: 1.000 - ETA: 0s - loss: 0.0040 - acc: 1.000 - ETA: 0s - loss: 0.0039 - acc: 1.000 - ETA: 0s - loss: 0.0039 - acc: 1.000 - ETA: 0s - loss: 0.0038 - acc: 1.000 - 3s 2ms/step - loss: 0.0038 - acc: 1.0000 - val_loss: 0.0039 - val_acc: 1.0000\n",
      "Epoch 4/10\n",
      "1307/1307 [==============================] - ETA: 2s - loss: 0.0034 - acc: 1.000 - ETA: 2s - loss: 0.0028 - acc: 1.000 - ETA: 2s - loss: 0.0025 - acc: 1.000 - ETA: 2s - loss: 0.0028 - acc: 1.000 - ETA: 2s - loss: 0.0029 - acc: 1.000 - ETA: 2s - loss: 0.0026 - acc: 1.000 - ETA: 2s - loss: 0.0028 - acc: 1.000 - ETA: 2s - loss: 0.0031 - acc: 1.000 - ETA: 2s - loss: 0.0030 - acc: 1.000 - ETA: 2s - loss: 0.0027 - acc: 1.000 - ETA: 1s - loss: 0.0026 - acc: 1.000 - ETA: 1s - loss: 0.0024 - acc: 1.000 - ETA: 1s - loss: 0.0024 - acc: 1.000 - ETA: 1s - loss: 0.0023 - acc: 1.000 - ETA: 1s - loss: 0.0023 - acc: 1.000 - ETA: 1s - loss: 0.0023 - acc: 1.000 - ETA: 1s - loss: 0.0022 - acc: 1.000 - ETA: 1s - loss: 0.0022 - acc: 1.000 - ETA: 1s - loss: 0.0021 - acc: 1.000 - ETA: 1s - loss: 0.0021 - acc: 1.000 - ETA: 1s - loss: 0.0020 - acc: 1.000 - ETA: 1s - loss: 0.0020 - acc: 1.000 - ETA: 1s - loss: 0.0020 - acc: 1.000 - ETA: 1s - loss: 0.0019 - acc: 1.000 - ETA: 1s - loss: 0.0020 - acc: 1.000 - ETA: 0s - loss: 0.0019 - acc: 1.000 - ETA: 0s - loss: 0.0019 - acc: 1.000 - ETA: 0s - loss: 0.0019 - acc: 1.000 - ETA: 0s - loss: 0.0019 - acc: 1.000 - ETA: 0s - loss: 0.0021 - acc: 1.000 - ETA: 0s - loss: 0.0021 - acc: 1.000 - ETA: 0s - loss: 0.0020 - acc: 1.000 - ETA: 0s - loss: 0.0020 - acc: 1.000 - ETA: 0s - loss: 0.0019 - acc: 1.000 - ETA: 0s - loss: 0.0019 - acc: 1.000 - ETA: 0s - loss: 0.0019 - acc: 1.000 - ETA: 0s - loss: 0.0019 - acc: 1.000 - ETA: 0s - loss: 0.0018 - acc: 1.000 - ETA: 0s - loss: 0.0018 - acc: 1.000 - ETA: 0s - loss: 0.0018 - acc: 1.000 - 3s 2ms/step - loss: 0.0018 - acc: 1.0000 - val_loss: 0.0016 - val_acc: 1.0000\n",
      "Epoch 5/10\n"
     ]
    },
    {
     "name": "stdout",
     "output_type": "stream",
     "text": [
      "1307/1307 [==============================] - ETA: 2s - loss: 6.0808e-04 - acc: 1.000 - ETA: 2s - loss: 0.0018 - acc: 1.0000    - ETA: 2s - loss: 0.0013 - acc: 1.000 - ETA: 2s - loss: 0.0014 - acc: 1.000 - ETA: 2s - loss: 0.0013 - acc: 1.000 - ETA: 1s - loss: 0.0012 - acc: 1.000 - ETA: 1s - loss: 0.0012 - acc: 1.000 - ETA: 1s - loss: 0.0011 - acc: 1.000 - ETA: 1s - loss: 0.0012 - acc: 1.000 - ETA: 1s - loss: 0.0056 - acc: 0.996 - ETA: 1s - loss: 0.0056 - acc: 0.997 - ETA: 1s - loss: 0.0052 - acc: 0.997 - ETA: 1s - loss: 0.0048 - acc: 0.997 - ETA: 1s - loss: 0.0045 - acc: 0.997 - ETA: 1s - loss: 0.0044 - acc: 0.997 - ETA: 1s - loss: 0.0042 - acc: 0.998 - ETA: 1s - loss: 0.0040 - acc: 0.998 - ETA: 1s - loss: 0.0039 - acc: 0.998 - ETA: 1s - loss: 0.0040 - acc: 0.998 - ETA: 1s - loss: 0.0039 - acc: 0.998 - ETA: 1s - loss: 0.0042 - acc: 0.998 - ETA: 1s - loss: 0.0041 - acc: 0.998 - ETA: 1s - loss: 0.0041 - acc: 0.998 - ETA: 0s - loss: 0.0042 - acc: 0.998 - ETA: 0s - loss: 0.0041 - acc: 0.998 - ETA: 0s - loss: 0.0041 - acc: 0.998 - ETA: 0s - loss: 0.0039 - acc: 0.998 - ETA: 0s - loss: 0.0038 - acc: 0.998 - ETA: 0s - loss: 0.0037 - acc: 0.998 - ETA: 0s - loss: 0.0036 - acc: 0.999 - ETA: 0s - loss: 0.0035 - acc: 0.999 - ETA: 0s - loss: 0.0034 - acc: 0.999 - ETA: 0s - loss: 0.0034 - acc: 0.999 - ETA: 0s - loss: 0.0033 - acc: 0.999 - ETA: 0s - loss: 0.0033 - acc: 0.999 - ETA: 0s - loss: 0.0032 - acc: 0.999 - ETA: 0s - loss: 0.0033 - acc: 0.999 - ETA: 0s - loss: 0.0032 - acc: 0.999 - ETA: 0s - loss: 0.0032 - acc: 0.999 - ETA: 0s - loss: 0.0031 - acc: 0.999 - 3s 2ms/step - loss: 0.0031 - acc: 0.9992 - val_loss: 0.0018 - val_acc: 1.0000\n",
      "Epoch 6/10\n",
      "1307/1307 [==============================] - ETA: 2s - loss: 5.8071e-04 - acc: 1.000 - ETA: 2s - loss: 0.0013 - acc: 1.0000    - ETA: 2s - loss: 0.0011 - acc: 1.000 - ETA: 2s - loss: 0.0011 - acc: 1.000 - ETA: 2s - loss: 0.0012 - acc: 1.000 - ETA: 2s - loss: 0.0010 - acc: 1.000 - ETA: 1s - loss: 9.1430e-04 - acc: 1.000 - ETA: 1s - loss: 8.3289e-04 - acc: 1.000 - ETA: 1s - loss: 9.1003e-04 - acc: 1.000 - ETA: 1s - loss: 9.1889e-04 - acc: 1.000 - ETA: 1s - loss: 9.3709e-04 - acc: 1.000 - ETA: 1s - loss: 9.3064e-04 - acc: 1.000 - ETA: 1s - loss: 8.9364e-04 - acc: 1.000 - ETA: 1s - loss: 8.5534e-04 - acc: 1.000 - ETA: 1s - loss: 8.2693e-04 - acc: 1.000 - ETA: 1s - loss: 8.1706e-04 - acc: 1.000 - ETA: 1s - loss: 8.0785e-04 - acc: 1.000 - ETA: 1s - loss: 8.1162e-04 - acc: 1.000 - ETA: 1s - loss: 7.8076e-04 - acc: 1.000 - ETA: 1s - loss: 7.5810e-04 - acc: 1.000 - ETA: 1s - loss: 7.5010e-04 - acc: 1.000 - ETA: 1s - loss: 7.2240e-04 - acc: 1.000 - ETA: 1s - loss: 7.1767e-04 - acc: 1.000 - ETA: 0s - loss: 7.1938e-04 - acc: 1.000 - ETA: 0s - loss: 7.0733e-04 - acc: 1.000 - ETA: 0s - loss: 6.9225e-04 - acc: 1.000 - ETA: 0s - loss: 6.8071e-04 - acc: 1.000 - ETA: 0s - loss: 6.7217e-04 - acc: 1.000 - ETA: 0s - loss: 7.1803e-04 - acc: 1.000 - ETA: 0s - loss: 7.0312e-04 - acc: 1.000 - ETA: 0s - loss: 6.9623e-04 - acc: 1.000 - ETA: 0s - loss: 6.7752e-04 - acc: 1.000 - ETA: 0s - loss: 6.7977e-04 - acc: 1.000 - ETA: 0s - loss: 6.7748e-04 - acc: 1.000 - ETA: 0s - loss: 6.6522e-04 - acc: 1.000 - ETA: 0s - loss: 6.6142e-04 - acc: 1.000 - ETA: 0s - loss: 6.4784e-04 - acc: 1.000 - ETA: 0s - loss: 6.3965e-04 - acc: 1.000 - ETA: 0s - loss: 6.2668e-04 - acc: 1.000 - ETA: 0s - loss: 6.2571e-04 - acc: 1.000 - 3s 2ms/step - loss: 6.1580e-04 - acc: 1.0000 - val_loss: 3.3419e-04 - val_acc: 1.0000\n",
      "Epoch 7/10\n",
      "1307/1307 [==============================] - ETA: 2s - loss: 1.9132e-04 - acc: 1.000 - ETA: 2s - loss: 1.6402e-04 - acc: 1.000 - ETA: 2s - loss: 1.3891e-04 - acc: 1.000 - ETA: 2s - loss: 1.3352e-04 - acc: 1.000 - ETA: 2s - loss: 2.7513e-04 - acc: 1.000 - ETA: 2s - loss: 3.4794e-04 - acc: 1.000 - ETA: 2s - loss: 3.4634e-04 - acc: 1.000 - ETA: 1s - loss: 3.2623e-04 - acc: 1.000 - ETA: 1s - loss: 3.2334e-04 - acc: 1.000 - ETA: 1s - loss: 3.9983e-04 - acc: 1.000 - ETA: 1s - loss: 4.9976e-04 - acc: 1.000 - ETA: 1s - loss: 4.7986e-04 - acc: 1.000 - ETA: 1s - loss: 4.8867e-04 - acc: 1.000 - ETA: 1s - loss: 4.6644e-04 - acc: 1.000 - ETA: 1s - loss: 4.4347e-04 - acc: 1.000 - ETA: 1s - loss: 4.2749e-04 - acc: 1.000 - ETA: 1s - loss: 4.5083e-04 - acc: 1.000 - ETA: 1s - loss: 4.5123e-04 - acc: 1.000 - ETA: 1s - loss: 4.5506e-04 - acc: 1.000 - ETA: 1s - loss: 4.4937e-04 - acc: 1.000 - ETA: 1s - loss: 4.3322e-04 - acc: 1.000 - ETA: 1s - loss: 4.2331e-04 - acc: 1.000 - ETA: 1s - loss: 4.2262e-04 - acc: 1.000 - ETA: 0s - loss: 4.3041e-04 - acc: 1.000 - ETA: 0s - loss: 4.1949e-04 - acc: 1.000 - ETA: 0s - loss: 4.7201e-04 - acc: 1.000 - ETA: 0s - loss: 4.5845e-04 - acc: 1.000 - ETA: 0s - loss: 4.4500e-04 - acc: 1.000 - ETA: 0s - loss: 4.4279e-04 - acc: 1.000 - ETA: 0s - loss: 4.3040e-04 - acc: 1.000 - ETA: 0s - loss: 4.2024e-04 - acc: 1.000 - ETA: 0s - loss: 4.1732e-04 - acc: 1.000 - ETA: 0s - loss: 4.1193e-04 - acc: 1.000 - ETA: 0s - loss: 4.0521e-04 - acc: 1.000 - ETA: 0s - loss: 4.0860e-04 - acc: 1.000 - ETA: 0s - loss: 4.1700e-04 - acc: 1.000 - ETA: 0s - loss: 4.1192e-04 - acc: 1.000 - ETA: 0s - loss: 4.0757e-04 - acc: 1.000 - ETA: 0s - loss: 4.0075e-04 - acc: 1.000 - ETA: 0s - loss: 3.9347e-04 - acc: 1.000 - 3s 2ms/step - loss: 3.9764e-04 - acc: 1.0000 - val_loss: 2.0239e-04 - val_acc: 1.0000\n",
      "Epoch 8/10\n",
      "1307/1307 [==============================] - ETA: 2s - loss: 1.8174e-04 - acc: 1.000 - ETA: 2s - loss: 1.6261e-04 - acc: 1.000 - ETA: 2s - loss: 1.9799e-04 - acc: 1.000 - ETA: 2s - loss: 2.1106e-04 - acc: 1.000 - ETA: 1s - loss: 1.8484e-04 - acc: 1.000 - ETA: 1s - loss: 1.9572e-04 - acc: 1.000 - ETA: 1s - loss: 2.0497e-04 - acc: 1.000 - ETA: 1s - loss: 2.0760e-04 - acc: 1.000 - ETA: 1s - loss: 1.9903e-04 - acc: 1.000 - ETA: 1s - loss: 1.8264e-04 - acc: 1.000 - ETA: 1s - loss: 1.7190e-04 - acc: 1.000 - ETA: 1s - loss: 1.7966e-04 - acc: 1.000 - ETA: 1s - loss: 1.7526e-04 - acc: 1.000 - ETA: 1s - loss: 1.7578e-04 - acc: 1.000 - ETA: 1s - loss: 1.7103e-04 - acc: 1.000 - ETA: 1s - loss: 1.6697e-04 - acc: 1.000 - ETA: 1s - loss: 1.8077e-04 - acc: 1.000 - ETA: 1s - loss: 1.8393e-04 - acc: 1.000 - ETA: 1s - loss: 3.2540e-04 - acc: 1.000 - ETA: 1s - loss: 3.3108e-04 - acc: 1.000 - ETA: 1s - loss: 3.1798e-04 - acc: 1.000 - ETA: 1s - loss: 3.0840e-04 - acc: 1.000 - ETA: 1s - loss: 3.0318e-04 - acc: 1.000 - ETA: 0s - loss: 2.9282e-04 - acc: 1.000 - ETA: 0s - loss: 2.8635e-04 - acc: 1.000 - ETA: 0s - loss: 2.7737e-04 - acc: 1.000 - ETA: 0s - loss: 2.7643e-04 - acc: 1.000 - ETA: 0s - loss: 2.7590e-04 - acc: 1.000 - ETA: 0s - loss: 2.6950e-04 - acc: 1.000 - ETA: 0s - loss: 2.6418e-04 - acc: 1.000 - ETA: 0s - loss: 3.5917e-04 - acc: 1.000 - ETA: 0s - loss: 3.5034e-04 - acc: 1.000 - ETA: 0s - loss: 3.5112e-04 - acc: 1.000 - ETA: 0s - loss: 3.5727e-04 - acc: 1.000 - ETA: 0s - loss: 3.5166e-04 - acc: 1.000 - ETA: 0s - loss: 3.4546e-04 - acc: 1.000 - ETA: 0s - loss: 3.4002e-04 - acc: 1.000 - ETA: 0s - loss: 3.4575e-04 - acc: 1.000 - ETA: 0s - loss: 3.3850e-04 - acc: 1.000 - ETA: 0s - loss: 3.3298e-04 - acc: 1.000 - 3s 2ms/step - loss: 3.3691e-04 - acc: 1.0000 - val_loss: 1.3680e-04 - val_acc: 1.0000\n",
      "Epoch 9/10\n"
     ]
    },
    {
     "name": "stdout",
     "output_type": "stream",
     "text": [
      "1307/1307 [==============================] - ETA: 2s - loss: 2.6423e-04 - acc: 1.000 - ETA: 2s - loss: 4.0819e-04 - acc: 1.000 - ETA: 2s - loss: 3.0881e-04 - acc: 1.000 - ETA: 2s - loss: 4.8416e-04 - acc: 1.000 - ETA: 2s - loss: 3.9612e-04 - acc: 1.000 - ETA: 1s - loss: 3.6051e-04 - acc: 1.000 - ETA: 1s - loss: 3.3586e-04 - acc: 1.000 - ETA: 1s - loss: 3.1160e-04 - acc: 1.000 - ETA: 1s - loss: 3.6306e-04 - acc: 1.000 - ETA: 1s - loss: 3.4685e-04 - acc: 1.000 - ETA: 1s - loss: 3.3165e-04 - acc: 1.000 - ETA: 1s - loss: 3.3558e-04 - acc: 1.000 - ETA: 1s - loss: 3.2034e-04 - acc: 1.000 - ETA: 1s - loss: 3.0230e-04 - acc: 1.000 - ETA: 1s - loss: 2.9455e-04 - acc: 1.000 - ETA: 1s - loss: 2.8179e-04 - acc: 1.000 - ETA: 1s - loss: 2.9505e-04 - acc: 1.000 - ETA: 1s - loss: 2.8739e-04 - acc: 1.000 - ETA: 1s - loss: 2.8119e-04 - acc: 1.000 - ETA: 1s - loss: 2.7253e-04 - acc: 1.000 - ETA: 1s - loss: 2.6492e-04 - acc: 1.000 - ETA: 1s - loss: 2.5850e-04 - acc: 1.000 - ETA: 1s - loss: 2.5379e-04 - acc: 1.000 - ETA: 0s - loss: 2.5788e-04 - acc: 1.000 - ETA: 0s - loss: 2.5064e-04 - acc: 1.000 - ETA: 0s - loss: 2.4239e-04 - acc: 1.000 - ETA: 0s - loss: 2.6743e-04 - acc: 1.000 - ETA: 0s - loss: 2.5995e-04 - acc: 1.000 - ETA: 0s - loss: 2.5745e-04 - acc: 1.000 - ETA: 0s - loss: 2.5335e-04 - acc: 1.000 - ETA: 0s - loss: 2.4803e-04 - acc: 1.000 - ETA: 0s - loss: 2.4517e-04 - acc: 1.000 - ETA: 0s - loss: 2.4004e-04 - acc: 1.000 - ETA: 0s - loss: 2.3716e-04 - acc: 1.000 - ETA: 0s - loss: 2.4852e-04 - acc: 1.000 - ETA: 0s - loss: 2.4683e-04 - acc: 1.000 - ETA: 0s - loss: 2.4092e-04 - acc: 1.000 - ETA: 0s - loss: 2.3605e-04 - acc: 1.000 - ETA: 0s - loss: 2.5541e-04 - acc: 1.000 - ETA: 0s - loss: 2.5802e-04 - acc: 1.000 - 3s 2ms/step - loss: 2.5892e-04 - acc: 1.0000 - val_loss: 1.1119e-04 - val_acc: 1.0000\n",
      "Epoch 10/10\n",
      "1307/1307 [==============================] - ETA: 2s - loss: 1.1814e-04 - acc: 1.000 - ETA: 2s - loss: 1.6211e-04 - acc: 1.000 - ETA: 2s - loss: 1.2127e-04 - acc: 1.000 - ETA: 2s - loss: 1.2867e-04 - acc: 1.000 - ETA: 2s - loss: 1.1642e-04 - acc: 1.000 - ETA: 2s - loss: 1.1152e-04 - acc: 1.000 - ETA: 1s - loss: 1.0580e-04 - acc: 1.000 - ETA: 1s - loss: 1.0297e-04 - acc: 1.000 - ETA: 1s - loss: 1.2799e-04 - acc: 1.000 - ETA: 1s - loss: 1.2272e-04 - acc: 1.000 - ETA: 1s - loss: 1.1640e-04 - acc: 1.000 - ETA: 1s - loss: 1.1252e-04 - acc: 1.000 - ETA: 1s - loss: 1.3015e-04 - acc: 1.000 - ETA: 1s - loss: 1.3325e-04 - acc: 1.000 - ETA: 1s - loss: 1.7307e-04 - acc: 1.000 - ETA: 1s - loss: 1.8237e-04 - acc: 1.000 - ETA: 1s - loss: 1.7617e-04 - acc: 1.000 - ETA: 1s - loss: 1.7643e-04 - acc: 1.000 - ETA: 1s - loss: 1.6889e-04 - acc: 1.000 - ETA: 1s - loss: 1.7281e-04 - acc: 1.000 - ETA: 1s - loss: 1.6764e-04 - acc: 1.000 - ETA: 1s - loss: 1.6332e-04 - acc: 1.000 - ETA: 1s - loss: 1.6256e-04 - acc: 1.000 - ETA: 0s - loss: 1.5909e-04 - acc: 1.000 - ETA: 0s - loss: 1.5809e-04 - acc: 1.000 - ETA: 0s - loss: 1.5567e-04 - acc: 1.000 - ETA: 0s - loss: 1.5316e-04 - acc: 1.000 - ETA: 0s - loss: 1.5282e-04 - acc: 1.000 - ETA: 0s - loss: 1.5585e-04 - acc: 1.000 - ETA: 0s - loss: 1.5246e-04 - acc: 1.000 - ETA: 0s - loss: 1.5310e-04 - acc: 1.000 - ETA: 0s - loss: 1.5060e-04 - acc: 1.000 - ETA: 0s - loss: 1.5086e-04 - acc: 1.000 - ETA: 0s - loss: 1.5031e-04 - acc: 1.000 - ETA: 0s - loss: 1.4822e-04 - acc: 1.000 - ETA: 0s - loss: 1.4870e-04 - acc: 1.000 - ETA: 0s - loss: 1.4534e-04 - acc: 1.000 - ETA: 0s - loss: 1.4526e-04 - acc: 1.000 - ETA: 0s - loss: 1.4371e-04 - acc: 1.000 - ETA: 0s - loss: 1.4302e-04 - acc: 1.000 - 3s 2ms/step - loss: 1.4200e-04 - acc: 1.0000 - val_loss: 8.5947e-05 - val_acc: 1.0000\n",
      "Returned:  <keras.callbacks.History object at 0x000001F2C1E95DD8>\n"
     ]
    }
   ],
   "source": [
    "model.compile(\n",
    "    loss='categorical_crossentropy',\n",
    "    optimizer='adam',\n",
    "    metrics=['accuracy']\n",
    ")\n",
    "\n",
    "r = model.fit(X, Y, validation_split=0.33, epochs=epochs, batch_size=batch_size)\n",
    "print(\"Returned: \", r)"
   ]
  },
  {
   "cell_type": "code",
   "execution_count": 10,
   "metadata": {},
   "outputs": [
    {
     "name": "stdout",
     "output_type": "stream",
     "text": [
      "dict_keys(['val_loss', 'val_acc', 'loss', 'acc'])\n"
     ]
    }
   ],
   "source": [
    "print(r.history.keys())"
   ]
  },
  {
   "cell_type": "code",
   "execution_count": 11,
   "metadata": {},
   "outputs": [
    {
     "data": {
      "image/png": "[encoded data removed]",
      "text/plain": [
       "<Figure size 432x288 with 1 Axes>"
      ]
     },
     "metadata": {
      "needs_background": "light"
     },
     "output_type": "display_data"
    },
    {
     "data": {
      "image/png": "[encoded data removed]",
      "text/plain": [
       "<Figure size 432x288 with 1 Axes>"
      ]
     },
     "metadata": {
      "needs_background": "light"
     },
     "output_type": "display_data"
    }
   ],
   "source": [
    "plt.plot(r.history['loss'], label='loss')\n",
    "plt.plot(r.history['val_loss'], label='val loss')\n",
    "plt.legend()\n",
    "plt.show()\n",
    "\n",
    "plt.plot(r.history['acc'], label='acc')\n",
    "plt.plot(r.history['val_acc'], label='val acc')\n",
    "plt.legend()\n",
    "plt.show()"
   ]
  },
  {
   "cell_type": "code",
   "execution_count": 12,
   "metadata": {},
   "outputs": [
    {
     "data": {
      "text/plain": [
       "array([[2.2265847e-06, 9.9999201e-01, 5.2978730e-06, 4.9637771e-07],\n",
       "       [9.9999404e-01, 3.2357775e-06, 9.0425613e-07, 1.7533592e-06],\n",
       "       [1.2958442e-06, 9.9992430e-01, 3.0689014e-05, 4.3710454e-05],\n",
       "       ...,\n",
       "       [9.9985850e-01, 1.3717746e-06, 5.5617020e-05, 8.4374886e-05],\n",
       "       [2.5680845e-06, 9.9999285e-01, 3.4049801e-06, 1.0625129e-06],\n",
       "       [1.0938888e-05, 1.0333128e-04, 9.9973959e-01, 1.4612821e-04]],\n",
       "      dtype=float32)"
      ]
     },
     "execution_count": 12,
     "metadata": {},
     "output_type": "execute_result"
    }
   ],
   "source": [
    "model.predict(X)"
   ]
  },
  {
   "cell_type": "code",
   "execution_count": 13,
   "metadata": {},
   "outputs": [],
   "source": [
    "import cv2\n",
    "import os\n",
    "from tqdm import tqdm"
   ]
  },
  {
   "cell_type": "code",
   "execution_count": 14,
   "metadata": {},
   "outputs": [
    {
     "name": "stdout",
     "output_type": "stream",
     "text": [
      "[INFO] Loading Caffe model...\n",
      "[INFO] Starting video encoding...\n"
     ]
    }
   ],
   "source": [
    "BASE_DIR = os.path.dirname(os.path.abspath(''))\n",
    "print(\"[INFO] Loading Caffe model...\")\n",
    "net = cv2.dnn.readNetFromCaffe(\"deploy.prototxt.txt\", \"res10_300x300_ssd_iter_140000.caffemodel\")\n",
    "fourcc = cv2.VideoWriter_fourcc(*'XVID')\n",
    "kernel = np.ones((20, 20), np.float32) / 400\n",
    "print(\"[INFO] Starting video encoding...\")\n",
    "cap = cv2.VideoCapture('video.mp4')\n",
    "writer = None\n",
    "face_names = ['sangjun', 'taekjung', 'taejong', 'yongdae']\n",
    "fsize = (300, 300)"
   ]
  },
  {
   "cell_type": "code",
   "execution_count": 15,
   "metadata": {},
   "outputs": [],
   "source": [
    "while cap.isOpened():\n",
    "    _, frame = cap.read()\n",
    "    if frame is None:\n",
    "        break\n",
    "\n",
    "    if writer is None:\n",
    "        writer = cv2.VideoWriter('video_keras.mp4', fourcc, 30, (frame.shape[1], frame.shape[0]))\n",
    "\n",
    "    (h, w) = frame.shape[:2]\n",
    "    blob = cv2.dnn.blobFromImage(cv2.resize(frame, fsize, interpolation=cv2.INTER_AREA), 1.0, fsize, (104.0, 177.0, 123.0))\n",
    "\n",
    "    net.setInput(blob)\n",
    "    detections = net.forward()\n",
    "\n",
    "    for i in range(detections.shape[2]):\n",
    "        confidence = detections[0, 0, i, 2]\n",
    "        if 0 > detections[0, 0, i, 3] or detections[0, 0, i, 3] > 1 or 0 > detections[0, 0, i, 4] \\\n",
    "                or detections[0, 0, i, 4] > 1 or 0 > 0 or detections[0, 0, i, 5] > 1 \\\n",
    "                or 0 > detections[0, 0, i, 6] or detections[0, 0, i, 6] > 1 or confidence < 0.8:\n",
    "            continue\n",
    "        box = detections[0, 0, i, 3:7] * np.array([w, h, w, h])\n",
    "        (startX, startY, endX, endY) = box.astype(\"int\")\n",
    "\n",
    "        roi = frame[startY:endY, startX:endX]\n",
    "        roi = cv2.resize(roi, (32, 32), interpolation=cv2.INTER_AREA)\n",
    "        roi = np.expand_dims(roi, axis=0)\n",
    "        text = str(model.predict(roi))\n",
    "        cv2.putText(frame, text, (startX, startY), cv2.FONT_HERSHEY_SIMPLEX, 2, (0, 0, 255), 4)\n",
    "    writer.write(frame)\n",
    "\n",
    "writer.release()\n",
    "cv2.destroyAllWindows()\n",
    "cap.release()"
   ]
  }
 ],
 "metadata": {
  "kernelspec": {
   "display_name": "Python 3",
   "language": "python",
   "name": "python3"
  },
  "language_info": {
   "codemirror_mode": {
    "name": "ipython",
    "version": 3
   },
   "file_extension": ".py",
   "mimetype": "text/x-python",
   "name": "python",
   "nbconvert_exporter": "python",
   "pygments_lexer": "ipython3",
   "version": "3.6.8"
  }
 },
 "nbformat": 4,
 "nbformat_minor": 2
}
